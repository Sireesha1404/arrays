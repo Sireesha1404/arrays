{
 "cells": [
  {
   "cell_type": "markdown",
   "id": "da0d833f",
   "metadata": {},
   "source": [
    "1 Write a Python program to print the NumPy  version in your system."
   ]
  },
  {
   "cell_type": "code",
   "execution_count": 3,
   "id": "f9fe13f7",
   "metadata": {},
   "outputs": [
    {
     "name": "stdout",
     "output_type": "stream",
     "text": [
      "Requirement already satisfied: numpy in c:\\programdata\\anaconda3\\lib\\site-packages (1.20.1)\n",
      "Note: you may need to restart the kernel to use updated packages.\n"
     ]
    }
   ],
   "source": [
    "pip install numpy"
   ]
  },
  {
   "cell_type": "markdown",
   "id": "bf2e1b05",
   "metadata": {},
   "source": [
    "2. Write a Python program to reverse an array  (first element becomes last). "
   ]
  },
  {
   "cell_type": "code",
   "execution_count": 4,
   "id": "50aec636",
   "metadata": {},
   "outputs": [
    {
     "name": "stdout",
     "output_type": "stream",
     "text": [
      "[10, 20, 30, 40, 50]\n",
      "[50, 40, 30, 20, 10]\n"
     ]
    }
   ],
   "source": [
    "import numpy as np\n",
    "arr = [10, 20, 30, 40, 50]\n",
    "print(arr)\n",
    " \n",
    "res = arr[::-1] \n",
    "print(res)\n"
   ]
  },
  {
   "cell_type": "markdown",
   "id": "91e99178",
   "metadata": {},
   "source": [
    "3.Write a Python program to convert a list and  tuple into arrays."
   ]
  },
  {
   "cell_type": "code",
   "execution_count": 5,
   "id": "bfecf835",
   "metadata": {},
   "outputs": [
    {
     "name": "stdout",
     "output_type": "stream",
     "text": [
      "List to array: \n",
      "[1 2 3 4 5 6 7 8]\n",
      "Tuple to array: \n",
      "[[8 4 6]\n",
      " [1 2 3]]\n"
     ]
    }
   ],
   "source": [
    "my_list = [1, 2, 3, 4, 5, 6, 7, 8]\n",
    "print(\"List to array: \")\n",
    "print(np.asarray(my_list))\n",
    "my_tuple = ([8, 4, 6], [1, 2, 3])\n",
    "print(\"Tuple to array: \")\n",
    "print(np.asarray(my_tuple))\n"
   ]
  },
  {
   "cell_type": "markdown",
   "id": "5326cb5c",
   "metadata": {},
   "source": [
    "4.Write a Python program to find common values  between two arrays."
   ]
  },
  {
   "cell_type": "code",
   "execution_count": 6,
   "id": "6e5e5326",
   "metadata": {},
   "outputs": [
    {
     "name": "stdout",
     "output_type": "stream",
     "text": [
      "Array1:  [ 0 10 20 40 60]\n",
      "Array2:  [10, 30, 40]\n",
      "Common values between two arrays:\n",
      "[10 40]\n"
     ]
    }
   ],
   "source": [
    "array1 = np.array([0, 10, 20, 40, 60])\n",
    "print(\"Array1: \",array1)\n",
    "array2 = [10, 30, 40]\n",
    "print(\"Array2: \",array2)\n",
    "print(\"Common values between two arrays:\")\n",
    "print(np.intersect1d(array1, array2))"
   ]
  },
  {
   "cell_type": "markdown",
   "id": "c34dce3e",
   "metadata": {},
   "source": [
    "5.Write a Python program compare two arrays  using numpy. "
   ]
  },
  {
   "cell_type": "code",
   "execution_count": 7,
   "id": "47a576ba",
   "metadata": {},
   "outputs": [
    {
     "name": "stdout",
     "output_type": "stream",
     "text": [
      "Array a:  [1 2]\n",
      "Array b:  [4 5]\n",
      "a > b\n",
      "[False False]\n",
      "a >= b\n",
      "[False False]\n",
      "a < b\n",
      "[ True  True]\n",
      "a <= b\n",
      "[ True  True]\n"
     ]
    }
   ],
   "source": [
    "a = np.array([1, 2])\n",
    "b = np.array([4, 5])\n",
    "print(\"Array a: \",a)\n",
    "print(\"Array b: \",b)\n",
    "print(\"a > b\")\n",
    "print(np.greater(a, b))\n",
    "print(\"a >= b\")\n",
    "print(np.greater_equal(a, b))\n",
    "print(\"a < b\")\n",
    "print(np.less(a, b))\n",
    "print(\"a <= b\")\n",
    "print(np.less_equal(a, b))"
   ]
  },
  {
   "cell_type": "markdown",
   "id": "3fd86953",
   "metadata": {},
   "source": [
    "6.Write a Python program to change the  dimension of an array."
   ]
  },
  {
   "cell_type": "code",
   "execution_count": 8,
   "id": "a2add9f6",
   "metadata": {},
   "outputs": [
    {
     "name": "stdout",
     "output_type": "stream",
     "text": [
      "6 rows and 0 columns\n",
      "(6,)\n",
      "(3, 3) -> 3 rows and 3 columns \n",
      "[[1 2 3]\n",
      " [4 5 6]\n",
      " [7 8 9]]\n",
      "Change array shape to (3, 3) -> 3 rows and 3 columns \n",
      "[[1 2 3]\n",
      " [4 5 6]\n",
      " [7 8 9]]\n"
     ]
    }
   ],
   "source": [
    "x = np.array([1, 2, 3, 4, 5, 6])\n",
    "print(\"6 rows and 0 columns\")\n",
    "print(x.shape)\n",
    "\n",
    "y = np.array([[1, 2, 3],[4, 5, 6],[7,8,9]])\n",
    "print(\"(3, 3) -> 3 rows and 3 columns \")\n",
    "print(y)\n",
    "\n",
    "x = np.array([1,2,3,4,5,6,7,8,9])\n",
    "print(\"Change array shape to (3, 3) -> 3 rows and 3 columns \")\n",
    "x.shape = (3, 3)\n",
    "print(x)"
   ]
  },
  {
   "cell_type": "markdown",
   "id": "266594de",
   "metadata": {},
   "source": [
    "7.Write a Python program (using numpy) to sum  of all the multiples of 3 or 5 below 100."
   ]
  },
  {
   "cell_type": "code",
   "execution_count": 9,
   "id": "86421491",
   "metadata": {},
   "outputs": [
    {
     "name": "stdout",
     "output_type": "stream",
     "text": [
      "[ 3  5  6  9 10 12 15 18 20 21 24 25 27 30 33 35 36 39 40 42 45 48 50 51\n",
      " 54 55 57 60 63 65 66 69 70 72 75 78 80 81 84 85 87 90 93 95 96 99]\n",
      "2318\n"
     ]
    }
   ],
   "source": [
    "x = np.arange(1, 100)\n",
    "# find  multiple of 3 or 5\n",
    "n= x[(x % 3 == 0) | (x % 5 == 0)]\n",
    "print(n[:1000])\n",
    "# print sum the numbers\n",
    "print(n.sum())"
   ]
  },
  {
   "cell_type": "markdown",
   "id": "90aa4822",
   "metadata": {},
   "source": [
    "Write a Python program to convert a NumPy  array into Python list structure. "
   ]
  },
  {
   "cell_type": "code",
   "execution_count": 10,
   "id": "faa74cdc",
   "metadata": {},
   "outputs": [
    {
     "name": "stdout",
     "output_type": "stream",
     "text": [
      "Original array elements:\n",
      "[[0 1]\n",
      " [2 3]\n",
      " [4 5]]\n",
      "Array to list:\n",
      "[[0, 1], [2, 3], [4, 5]]\n"
     ]
    }
   ],
   "source": [
    "x= np.arange(6).reshape(3, 2)\n",
    "print(\"Original array elements:\")\n",
    "print(x)\n",
    "print(\"Array to list:\")\n",
    "print(x.tolist())"
   ]
  },
  {
   "cell_type": "markdown",
   "id": "f14a8b8d",
   "metadata": {},
   "source": [
    "9. Write a Python program to how to add an extra  column to a numpy array. "
   ]
  },
  {
   "cell_type": "code",
   "execution_count": 14,
   "id": "274a883a",
   "metadata": {},
   "outputs": [
    {
     "name": "stdout",
     "output_type": "stream",
     "text": [
      "[[ 10  20  30 100]\n",
      " [ 40  50  60 200]]\n"
     ]
    }
   ],
   "source": [
    "x = np.array([[10,20,30], [40,50,60]])\n",
    "y = np.array([[100], [200]])\n",
    "print(np.append(x, y, axis=1))"
   ]
  },
  {
   "cell_type": "markdown",
   "id": "8de9a41a",
   "metadata": {},
   "source": [
    "10∙ Write a Python program to check whether the  numpy array is empty or not. "
   ]
  },
  {
   "cell_type": "code",
   "execution_count": 15,
   "id": "c07a4210",
   "metadata": {},
   "outputs": [
    {
     "name": "stdout",
     "output_type": "stream",
     "text": [
      "2\n",
      "0\n"
     ]
    }
   ],
   "source": [
    "x = np.array([2, 3])\n",
    "y = np.array([])\n",
    "# size 2, array is not empty\n",
    "print(x.size)\n",
    "# size 0, array is empty\n",
    "print(y.size)"
   ]
  },
  {
   "cell_type": "markdown",
   "id": "36b7b4b8",
   "metadata": {},
   "source": [
    "11∙ Write a Python program to normalize a 3x3  random matrix. "
   ]
  },
  {
   "cell_type": "code",
   "execution_count": 16,
   "id": "24193e60",
   "metadata": {},
   "outputs": [
    {
     "name": "stdout",
     "output_type": "stream",
     "text": [
      "Original Array:\n",
      "[[0.51543806 0.98127782 0.3646179 ]\n",
      " [0.96943146 0.52348096 0.17068036]\n",
      " [0.52299076 0.55111712 0.38128893]]\n",
      "After normalization:\n",
      "[[0.42531307 1.         0.23925258]\n",
      " [0.98538563 0.43523526 0.        ]\n",
      " [0.43463052 0.46932883 0.25981893]]\n"
     ]
    }
   ],
   "source": [
    "x= np.random.random((3,3))\n",
    "print(\"Original Array:\")\n",
    "print(x)\n",
    "xmax, xmin = x.max(), x.min()\n",
    "x = (x - xmin)/(xmax - xmin)\n",
    "print(\"After normalization:\")\n",
    "print(x)"
   ]
  },
  {
   "cell_type": "markdown",
   "id": "e67b4577",
   "metadata": {},
   "source": [
    "12∙ How to ignore all numpy warnings (not  recommended)? "
   ]
  },
  {
   "cell_type": "code",
   "execution_count": 17,
   "id": "3e30d0ae",
   "metadata": {},
   "outputs": [],
   "source": [
    "data = np.random.random(1000).reshape(10, 10,10) * np.nan"
   ]
  },
  {
   "cell_type": "code",
   "execution_count": 18,
   "id": "2b06e171",
   "metadata": {},
   "outputs": [
    {
     "data": {
      "text/plain": [
       "{'divide': 'warn', 'over': 'warn', 'under': 'ignore', 'invalid': 'warn'}"
      ]
     },
     "execution_count": 18,
     "metadata": {},
     "output_type": "execute_result"
    }
   ],
   "source": [
    "np.seterr(all=\"ignore\")"
   ]
  },
  {
   "cell_type": "code",
   "execution_count": 20,
   "id": "6a6ab558",
   "metadata": {},
   "outputs": [
    {
     "data": {
      "text/plain": [
       "array([nan, nan, nan, nan, nan, nan, nan, nan, nan, nan])"
      ]
     },
     "execution_count": 20,
     "metadata": {},
     "output_type": "execute_result"
    }
   ],
   "source": [
    "np.nanmedian(data, axis=[1, 2])"
   ]
  },
  {
   "cell_type": "markdown",
   "id": "19b82b26",
   "metadata": {},
   "source": [
    "13∙ How to swap two rows of an array? "
   ]
  },
  {
   "cell_type": "code",
   "execution_count": 21,
   "id": "9a07dc7f",
   "metadata": {},
   "outputs": [
    {
     "name": "stdout",
     "output_type": "stream",
     "text": [
      "[[4 3 1]\n",
      " [5 7 0]\n",
      " [9 9 3]\n",
      " [8 2 4]]\n"
     ]
    }
   ],
   "source": [
    "a = np.array([[4,3, 1],[5 ,7, 0],[9, 9, 3],[8, 2, 4]]) \n",
    "print(a)"
   ]
  },
  {
   "cell_type": "code",
   "execution_count": 22,
   "id": "693fa4a1",
   "metadata": {
    "scrolled": true
   },
   "outputs": [
    {
     "name": "stdout",
     "output_type": "stream",
     "text": [
      "[[9 9 3]\n",
      " [5 7 0]\n",
      " [4 3 1]\n",
      " [8 2 4]]\n"
     ]
    }
   ],
   "source": [
    "a[[0, 2]] = a[[2, 0]]\n",
    "print(a)"
   ]
  },
  {
   "cell_type": "markdown",
   "id": "465d9073",
   "metadata": {},
   "source": [
    "14∙ Compute bootstrapped 95% confidence  intervals for the mean of a 1D array X (i.e.,  resample the elements of an array with  replacement N times, compute the mean of  each sample, and then compute percentiles  over the means). "
   ]
  },
  {
   "cell_type": "code",
   "execution_count": null,
   "id": "32ee4313",
   "metadata": {},
   "outputs": [],
   "source": []
  },
  {
   "cell_type": "markdown",
   "id": "d5882e62",
   "metadata": {},
   "source": [
    "15∙ Python program to create a random vector of  size 10 and sort it."
   ]
  },
  {
   "cell_type": "code",
   "execution_count": 23,
   "id": "44d157d1",
   "metadata": {},
   "outputs": [
    {
     "name": "stdout",
     "output_type": "stream",
     "text": [
      "Original array:\n",
      "[0.02051441 0.6475948  0.425838   0.38021279 0.86229215 0.89104602\n",
      " 0.59199158 0.78623546 0.22006873 0.06100856]\n",
      "Sorted array:\n",
      "[0.02051441 0.06100856 0.22006873 0.38021279 0.425838   0.59199158\n",
      " 0.6475948  0.78623546 0.86229215 0.89104602]\n"
     ]
    }
   ],
   "source": [
    "x = np.random.random(10)\n",
    "print(\"Original array:\")\n",
    "print(x)\n",
    "x.sort()\n",
    "print(\"Sorted array:\")\n",
    "print(x)"
   ]
  },
  {
   "cell_type": "markdown",
   "id": "22d1aed3",
   "metadata": {},
   "source": [
    "16∙ Write a Python program to check two random  arrays are equal or not. "
   ]
  },
  {
   "cell_type": "code",
   "execution_count": 24,
   "id": "6647f7ae",
   "metadata": {},
   "outputs": [
    {
     "name": "stdout",
     "output_type": "stream",
     "text": [
      "First array:\n",
      "[1 0 0 0 1 1]\n",
      "Second array:\n",
      "[0 1 1 1 0 1]\n",
      "Test above two arrays are equal or not!\n",
      "False\n"
     ]
    }
   ],
   "source": [
    "x = np.random.randint(0,2,6)\n",
    "print(\"First array:\")\n",
    "print(x)\n",
    "y = np.random.randint(0,2,6)\n",
    "print(\"Second array:\")\n",
    "print(y)\n",
    "print(\"Test above two arrays are equal or not!\")\n",
    "array_equal = np.allclose(x, y)\n",
    "print(array_equal)"
   ]
  },
  {
   "cell_type": "markdown",
   "id": "6e229447",
   "metadata": {},
   "source": [
    "17∙ Write a Python program to add, subtract,  multiply, divide arguments element-wise. ∙ Write a Python program to get the dates of  yesterday, today and tomorrow."
   ]
  },
  {
   "cell_type": "code",
   "execution_count": 25,
   "id": "512ed885",
   "metadata": {},
   "outputs": [
    {
     "name": "stdout",
     "output_type": "stream",
     "text": [
      "Add:\n",
      "5.0\n",
      "Subtract:\n",
      "-3.0\n",
      "Multiply:\n",
      "4.0\n",
      "Divide:\n",
      "0.25\n"
     ]
    }
   ],
   "source": [
    "print(\"Add:\")\n",
    "print(np.add(1.0, 4.0))\n",
    "print(\"Subtract:\")\n",
    "print(np.subtract(1.0, 4.0))\n",
    "print(\"Multiply:\")\n",
    "print(np.multiply(1.0, 4.0))\n",
    "print(\"Divide:\")\n",
    "print(np.divide(1.0, 4.0))"
   ]
  }
 ],
 "metadata": {
  "kernelspec": {
   "display_name": "Python 3",
   "language": "python",
   "name": "python3"
  },
  "language_info": {
   "codemirror_mode": {
    "name": "ipython",
    "version": 3
   },
   "file_extension": ".py",
   "mimetype": "text/x-python",
   "name": "python",
   "nbconvert_exporter": "python",
   "pygments_lexer": "ipython3",
   "version": "3.8.8"
  }
 },
 "nbformat": 4,
 "nbformat_minor": 5
}
